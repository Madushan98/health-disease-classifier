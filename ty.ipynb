{
 "cells": [
  {
   "cell_type": "code",
   "execution_count": 1,
   "metadata": {},
   "outputs": [],
   "source": [
    "import re\n",
    "import pandas as pd\n",
    "from sklearn import preprocessing\n",
    "from sklearn.tree import DecisionTreeClassifier, _tree\n",
    "import numpy as np\n",
    "from sklearn.model_selection import train_test_split\n",
    "from sklearn.model_selection import cross_val_score\n",
    "from sklearn.svm import SVC\n",
    "import csv\n",
    "import warnings\n",
    "import pickle"
   ]
  },
  {
   "cell_type": "code",
   "execution_count": 2,
   "metadata": {},
   "outputs": [],
   "source": [
    "training = pd.read_csv('Data/new_Training.csv', encoding='utf-8')\n",
    "testing = pd.read_csv('Data/new_Testing.csv', encoding='utf-8')\n",
    "cols = training.columns\n",
    "cols = cols[:-1]\n",
    "x = training[cols]\n",
    "y = training['prognosis']\n",
    "y1 = y"
   ]
  },
  {
   "cell_type": "code",
   "execution_count": null,
   "metadata": {},
   "outputs": [],
   "source": []
  },
  {
   "cell_type": "code",
   "execution_count": 3,
   "metadata": {},
   "outputs": [],
   "source": [
    "def check_pattern(dis_list, inp):\n",
    "    pred_list = []\n",
    "    patt = f\"{inp}\"\n",
    "    regexp = re.compile(patt)\n",
    "    pred_list = [item for item in dis_list if regexp.search(item)]\n",
    "    if(len(pred_list) > 0):\n",
    "        return 1, pred_list\n",
    "    else:\n",
    "        return 0, []"
   ]
  },
  {
   "cell_type": "code",
   "execution_count": 5,
   "metadata": {},
   "outputs": [
    {
     "name": "stdout",
     "output_type": "stream",
     "text": [
      "\n",
      "ඔබ අත්විඳින රෝග ලක්ෂණයක් කියන්න පුලුවන්ද  \t\t->"
     ]
    },
    {
     "ename": "NameError",
     "evalue": "name 'chk_dis' is not defined",
     "output_type": "error",
     "traceback": [
      "\u001b[1;31m---------------------------------------------------------------------------\u001b[0m",
      "\u001b[1;31mNameError\u001b[0m                                 Traceback (most recent call last)",
      "Cell \u001b[1;32mIn[5], line 3\u001b[0m\n\u001b[0;32m      1\u001b[0m \u001b[39mprint\u001b[39m(\u001b[39m\"\u001b[39m\u001b[39m\\n\u001b[39;00m\u001b[39mඔබ අත්විඳින රෝග ලක්ෂණයක් කියන්න පුලුවන්ද  \u001b[39m\u001b[39m\\t\u001b[39;00m\u001b[39m\\t\u001b[39;00m\u001b[39m\"\u001b[39m, end\u001b[39m=\u001b[39m\u001b[39m\"\u001b[39m\u001b[39m->\u001b[39m\u001b[39m\"\u001b[39m)\n\u001b[0;32m      2\u001b[0m disease_input \u001b[39m=\u001b[39m \u001b[39minput\u001b[39m(\u001b[39m\"\u001b[39m\u001b[39m\"\u001b[39m)\n\u001b[1;32m----> 3\u001b[0m conf, cnf_dis \u001b[39m=\u001b[39m check_pattern(chk_dis, disease_input)\n",
      "\u001b[1;31mNameError\u001b[0m: name 'chk_dis' is not defined"
     ]
    }
   ],
   "source": [
    "print(\"\\nඔබ අත්විඳින රෝග ලක්ෂණයක් කියන්න පුලුවන්ද  \\t\\t\", end=\"->\")\n",
    "disease_input = input(\"\")\n",
    "conf, cnf_dis = check_pattern(chk_dis, disease_input)"
   ]
  }
 ],
 "metadata": {
  "kernelspec": {
   "display_name": "my_init",
   "language": "python",
   "name": "python3"
  },
  "language_info": {
   "codemirror_mode": {
    "name": "ipython",
    "version": 3
   },
   "file_extension": ".py",
   "mimetype": "text/x-python",
   "name": "python",
   "nbconvert_exporter": "python",
   "pygments_lexer": "ipython3",
   "version": "3.9.15"
  },
  "orig_nbformat": 4
 },
 "nbformat": 4,
 "nbformat_minor": 2
}
